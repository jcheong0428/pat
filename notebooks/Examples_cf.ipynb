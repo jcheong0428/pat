{
 "cells": [
  {
   "cell_type": "markdown",
   "metadata": {},
   "source": [
    "# Load PAT module and packages"
   ]
  },
  {
   "cell_type": "code",
   "execution_count": 4,
   "metadata": {},
   "outputs": [],
   "source": [
    "%load_ext autoreload\n",
    "%autoreload 2\n",
    "from pat import data, utils\n",
    "import json, os, glob\n",
    "import pandas as pd, numpy as np\n",
    "%matplotlib inline\n",
    "import matplotlib.pyplot as plt, seaborn as sns\n",
    "sns.set_style('white')\n",
    "from tqdm import tqdm"
   ]
  },
  {
   "cell_type": "markdown",
   "metadata": {},
   "source": [
    "# Load data directly as pose2D format"
   ]
  },
  {
   "cell_type": "code",
   "execution_count": 5,
   "metadata": {},
   "outputs": [
    {
     "name": "stdout",
     "output_type": "stream",
     "text": [
      "Pose2D\n"
     ]
    }
   ],
   "source": [
    "# Extract keypoints.json files into one composite csv Frame x 75 Keypoints\n",
    "from pat.data import pose2d_cols\n",
    "from joblib import Parallel, delayed\n",
    "os.chdir('C:/Users/Catarina/Desktop/MIND2019/pat/notebooks/')\n",
    "fnames = np.sort(glob.glob('output/json/*_keypoints.json'))\n",
    "new_df_fname = 'output/Sherlock_full_par.csv'\n",
    "if not os.path.exists(new_df_fname):\n",
    "    result = Parallel(n_jobs=3)(delayed(utils.load_keypoints_2d)(fname, os.path.split(fname)[1].split('_')[1], new_df_fname) for fname in fnames)\n",
    "else:\n",
    "    # Load the data back with multiindex and column names. \n",
    "    df = pd.read_csv(new_df_fname, header=None, index_col=[0, 1], names=pose2d_cols)\n",
    "    df.index.names=['frame','personID']\n",
    "    df = df.sort_values(['frame','personID'])\n",
    "    print(df.pat._type)"
   ]
  },
  {
   "cell_type": "markdown",
   "metadata": {},
   "source": [
    "# Set some functions"
   ]
  },
  {
   "cell_type": "code",
   "execution_count": 13,
   "metadata": {},
   "outputs": [],
   "source": [
    "def center_of_mass(pose_df):\n",
    "    '''Calculate centre of mass of one person\n",
    "    Args:\n",
    "          pose_df: pose_2d dataframe\n",
    "    Return:\n",
    "          Dataframe with center of mass (calculated as average x,y of pose keypoints) for each frame\n",
    "    ''' \n",
    "    pose_x = []\n",
    "    pose_y = []\n",
    "    x_index = pose_df.columns.str.startswith('x_')\n",
    "    y_index = pose_df.columns.str.startswith('y_')\n",
    "\n",
    "    for frame_ix in range(len(pose_df)):\n",
    "        x_coords = pose_df.iloc[frame_ix,x_index]\n",
    "        y_coords = pose_df.iloc[frame_ix,y_index]\n",
    "        av_x = x_coords[x_coords != 0].mean()\n",
    "        av_y = y_coords[y_coords != 0].mean()\n",
    "        pose_x.append(av_x) \n",
    "        pose_y.append(av_y) \n",
    "        \n",
    "    com = np.transpose(np.array([pose_x, pose_y]))\n",
    "    return pd.DataFrame(com, index = pose_df.index.get_level_values('frame'), columns = ['mean_x','mean_y'])\n",
    "\n",
    "\n",
    "\n",
    "def pose_diff (p0, p1, keypoints):\n",
    "    '''\n",
    "    Args:\n",
    "        p0: pose_2d dataframe from person 1\n",
    "        p1: pose_2d dataframe from person 2\n",
    "        keypoints: on what keypoints to compute difference\n",
    "                   options 'all' or keypoint number (between 0 and 24 or any combination of those)\n",
    "                   NOTE: 75 keypoints in (x1,y1,c1, x2,y2,c2,...) where x is x coord, y is y coord, and c is confidence \n",
    "                   function assumes Pose Output Format (BODY_25) from OpenPose\n",
    "    Return:\n",
    "        Data frames with differences in x coordinate and then in y coordinate\n",
    "    '''\n",
    "        \n",
    "    x_diff = []; y_diff = []\n",
    "    idx = p0.index.get_level_values('frame')  \n",
    "\n",
    "    if len(keypoints) == 1 and keypoints == ['all']:\n",
    "        x_index = p0.columns.str.startswith('x_')\n",
    "        y_index = p0.columns.str.startswith('y_')\n",
    "        col_x = p0.columns[p0.columns.str.startswith('x_')]\n",
    "        col_y = p0.columns[p0.columns.str.startswith('y_')]\n",
    "        \n",
    "    elif len(keypoints) == 1 and keypoints != ['all']:\n",
    "            x_index = p0.columns.str.startswith('x_'+keypoints[0])\n",
    "            y_index = p0.columns.str.startswith('y_'+keypoints[0])\n",
    "            col_x = p0.columns[p0.columns.str.startswith('x_'+keypoints[0])]\n",
    "            col_y = p0.columns[p0.columns.str.startswith('y_'+keypoints[0])] \n",
    "            \n",
    "    for frame_ix in range(len(p0)):\n",
    "        x = p0.iloc[frame_ix,x_index]-p1.iloc[frame_ix,x_index]\n",
    "        y = p0.iloc[frame_ix,y_index]-p1.iloc[frame_ix,y_index]\n",
    "        x_diff.append(x)\n",
    "        y_diff.append(y)\n",
    "\n",
    "    x = pd.DataFrame(np.array(x_diff), index = idx, columns = col_x)\n",
    "    y = pd.DataFrame(np.array(y_diff), index = idx, columns = col_y)    \n",
    "\n",
    "    return pd.concat([x,y],axis=1, sort=False)\n",
    "        "
   ]
  },
  {
   "cell_type": "code",
   "execution_count": 7,
   "metadata": {},
   "outputs": [],
   "source": [
    "#get center of mass for two different people, filtered by confidence\n",
    "p0 = df.loc[df.index.get_level_values('personID') == -1]\n",
    "p1 = df.loc[df.index.get_level_values('personID') == -0]\n",
    "\n",
    "p0_filt = p0.pat.filter_pose_confidence()\n",
    "p1_filt = p1.pat.filter_pose_confidence()\n",
    "\n",
    "p0_com = center_of_mass (p0_filt)\n",
    "p1_com = center_of_mass (p1_filt)"
   ]
  },
  {
   "cell_type": "code",
   "execution_count": 10,
   "metadata": {},
   "outputs": [
    {
     "data": {
      "text/plain": [
       "[(150, 300), (50, 300)]"
      ]
     },
     "execution_count": 10,
     "metadata": {},
     "output_type": "execute_result"
    },
    {
     "data": {
      "image/png": "[encoded data removed]",
      "text/plain": [
       "<Figure size 432x288 with 1 Axes>"
      ]
     },
     "metadata": {
      "needs_background": "light"
     },
     "output_type": "display_data"
    }
   ],
   "source": [
    "#quick and dirty plot just to check if com actually seems to be in the center of the pose (one frame, one person)\n",
    "x_coords = p0_filt.iloc[2,0:72:3].values\n",
    "x_coords = x_coords[x_coords != 0]\n",
    "\n",
    "y_coords = p0_filt.iloc[2,1:73:3].values\n",
    "y_coords = y_coords[y_coords != 0]\n",
    "\n",
    "x_com = p0_com['mean_x'].iloc[2]\n",
    "y_com = p0_com['mean_y'].iloc[2]\n",
    "\n",
    "\n",
    "fig = plt.figure()\n",
    "ax = fig.add_subplot(1, 1, 1)\n",
    "ax.clear()\n",
    "ax.scatter(x_coords,y_coords, c = 'k')\n",
    "ax.scatter(x_com,y_com, c = 'r')\n",
    "ax.set(xlim=[50,300],ylim=[150,300])"
   ]
  },
  {
   "cell_type": "code",
   "execution_count": 14,
   "metadata": {},
   "outputs": [],
   "source": [
    "#get the distance between two people for all keypoints in each frame\n",
    "diff_all = pose_diff(p0_filt, p1_filt, ['all'])\n",
    "\n",
    "#get the distance between two people for one of the keypoints in each frame\n",
    "diff_nose = pose_diff(p0_filt, p1_filt, ['Nose'])\n",
    "\n",
    "#note that some keypoints will have information for left AND right. In those cases, you might want to specify what side\n",
    "diff_rWrist = pose_diff(p0_filt, p1_filt, ['RWrist'])\n",
    "\n",
    "#STILL WORKING ON THIS ONE (just figuring out the best way to store the information)\n",
    "#get the distance between two people for a few different keypoints in each frame\n",
    "#diff_nose = pose_diff(p0_filt, p1_filt, ['Nose', 'Neck', 'RWrist'])"
   ]
  },
  {
   "cell_type": "markdown",
   "metadata": {},
   "source": [
    "ALSO STILL WORKING ON: \n",
    "- I just noticed I'm taking all the frames when computing differences, when it only makes sense to compute them when the 2 (or more) people are on the screen at the same time. Changing that now\n",
    "- Is there a nice (useful way) to plot these differences\n",
    "- Normalization (have a few questions about using procrustes\n"
   ]
  }
 ],
 "metadata": {
  "kernelspec": {
   "display_name": "Python 3",
   "language": "python",
   "name": "python3"
  },
  "language_info": {
   "codemirror_mode": {
    "name": "ipython",
    "version": 3
   },
   "file_extension": ".py",
   "mimetype": "text/x-python",
   "name": "python",
   "nbconvert_exporter": "python",
   "pygments_lexer": "ipython3",
   "version": "3.7.1"
  }
 },
 "nbformat": 4,
 "nbformat_minor": 2
}
